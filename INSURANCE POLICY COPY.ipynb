{
 "cells": [
  {
   "cell_type": "code",
   "execution_count": 1,
   "id": "91a22c86",
   "metadata": {},
   "outputs": [
    {
     "name": "stdout",
     "output_type": "stream",
     "text": [
      "Net Premium (Rs. 2,895,421.00) is less than the Input Number (Rs. 3,000,000.00)\n"
     ]
    }
   ],
   "source": [
    "import gspread\n",
    "from oauth2client.service_account import ServiceAccountCredentials\n",
    "import json\n",
    "SCOPES = ['https://www.googleapis.com/auth/spreadsheets.readonly']\n",
    "SERVICE_ACCOUNT_FILE = \"C:/Users/Reliance/Desktop/pfa/green-tract-425606-v9-3937cf909a0c.json\"\n",
    "credentials = ServiceAccountCredentials.from_json_keyfile_name(SERVICE_ACCOUNT_FILE, SCOPES)\n",
    "client = gspread.authorize(credentials)\n",
    "spreadsheet_id = \"1NyUstsBU27DJaUDQjS-H9a8GofhDzbOvtfM6you26p4\"  \n",
    "spreadsheet = client.open_by_key(spreadsheet_id)\n",
    "worksheet = spreadsheet.sheet1\n",
    "input_number = int(worksheet.cell(1, 2).value.replace(',', ''))  \n",
    "net_premium = int(worksheet.cell(2, 2).value.replace(',', ''))   \n",
    "if net_premium > input_number:\n",
    "    print(f\"Net Premium (Rs. {net_premium:,.2f}) is greater than the Input Number (Rs. {input_number:,.2f})\")\n",
    "elif net_premium < input_number:\n",
    "    print(f\"Net Premium (Rs. {net_premium:,.2f}) is less than the Input Number (Rs. {input_number:,.2f})\")\n",
    "else:\n",
    "    print(f\"Net Premium (Rs. {net_premium:,.2f}) is equal to the Input Number (Rs. {input_number:,.2f})\")\n"
   ]
  },
  {
   "cell_type": "code",
   "execution_count": null,
   "id": "eabfc18b",
   "metadata": {},
   "outputs": [],
   "source": []
  }
 ],
 "metadata": {
  "kernelspec": {
   "display_name": "Python 3 (ipykernel)",
   "language": "python",
   "name": "python3"
  },
  "language_info": {
   "codemirror_mode": {
    "name": "ipython",
    "version": 3
   },
   "file_extension": ".py",
   "mimetype": "text/x-python",
   "name": "python",
   "nbconvert_exporter": "python",
   "pygments_lexer": "ipython3",
   "version": "3.9.13"
  }
 },
 "nbformat": 4,
 "nbformat_minor": 5
}
